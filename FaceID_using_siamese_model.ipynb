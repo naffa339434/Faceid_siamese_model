{
 "cells": [
  {
   "cell_type": "code",
   "execution_count": 2,
   "id": "3c08075a",
   "metadata": {},
   "outputs": [],
   "source": [
    "#importing standard dependencies\n",
    "import cv2 \n",
    "import numpy as np \n",
    "import matplotlib.pyplot as plt\n",
    "import os\n",
    "import random\n"
   ]
  },
  {
   "cell_type": "code",
   "execution_count": 3,
   "id": "1c48519d",
   "metadata": {},
   "outputs": [],
   "source": [
    "#import tensor flow dependencies fuctional api comps\n",
    "from tensorflow.keras.models import Model\n",
    "from tensorflow.keras.layers import Layer, Conv2D, Dense, MaxPooling2D, Flatten, Input\n",
    "import tensorflow as tf\n"
   ]
  },
  {
   "cell_type": "code",
   "execution_count": 4,
   "id": "aaa236d9",
   "metadata": {},
   "outputs": [
    {
     "data": {
      "text/plain": [
       "True"
      ]
     },
     "execution_count": 4,
     "metadata": {},
     "output_type": "execute_result"
    }
   ],
   "source": [
    "ANC_PATH = r'C:\\Users\\CC\\Documents\\docs\\Projects\\Faceid\\data\\anchor'\n",
    "POS_PATH = r'C:\\Users\\CC\\Documents\\docs\\Projects\\Faceid\\data\\positive'\n",
    "NEG_PATH = r'C:\\Users\\CC\\Documents\\docs\\Projects\\Faceid\\data\\negative'\n",
    "os.path.exists(ANC_PATH)"
   ]
  },
  {
   "cell_type": "code",
   "execution_count": 5,
   "id": "3734685a",
   "metadata": {},
   "outputs": [],
   "source": [
    "anchor = tf.data.Dataset.list_files(ANC_PATH + r'/*.jpg').take(300)\n",
    "positive = tf.data.Dataset.list_files(POS_PATH + r'/*.jpg').take(300)\n",
    "negative = tf.data.Dataset.list_files(NEG_PATH + r'/*.jpg').take(300)"
   ]
  },
  {
   "cell_type": "code",
   "execution_count": 6,
   "id": "59f0a9c3",
   "metadata": {},
   "outputs": [],
   "source": [
    "def preprocess(file_path):\n",
    "# read img from file (passes file path to the func)\n",
    "  byte_img = tf.io.read_file(file_path)\n",
    "# load the img  \n",
    "  img = tf.io.decode_jpeg(byte_img)\n",
    "# preprocess the img by resizing it into 100x100 pixels and 3 channels\n",
    "  img = tf.image.resize(img, (100,100))\n",
    "# scale img to be between 0 and 1\n",
    "  img = img / 255.0\n",
    "  return img"
   ]
  },
  {
   "cell_type": "code",
   "execution_count": 7,
   "id": "aeb5acb7",
   "metadata": {},
   "outputs": [],
   "source": [
    "# outputs an array of ones which means maximum match( we want our model to output 1) which has\n",
    "positives = tf.data.Dataset.zip((anchor, positive, tf.data.Dataset.from_tensor_slices(tf.ones(len(anchor)))))\n",
    "# outputs 0 in the shape of our anchor and \n",
    "negatives = tf.data.Dataset.zip((anchor, negative, tf.data.Dataset.from_tensor_slices(tf.zeros(len(anchor)))))\n",
    "#combines positives and negatives into a single dataset\n",
    "data = positives.concatenate(negatives)"
   ]
  },
  {
   "cell_type": "code",
   "execution_count": 8,
   "id": "c190c80a",
   "metadata": {},
   "outputs": [],
   "source": [
    "#preprocess positive and negative img input img = anchor validation_img = pos or neg\n",
    "def preprocess_twin(input_img, validation_img, label):\n",
    "  return (preprocess(input_img),preprocess(validation_img), label)"
   ]
  },
  {
   "cell_type": "code",
   "execution_count": 9,
   "id": "3eb0301f",
   "metadata": {},
   "outputs": [],
   "source": [
    "# building data loaderpipeline\n",
    "data = data.map(preprocess_twin)\n",
    "data = data.cache()\n",
    "data = data.shuffle(buffer_size=1024)"
   ]
  },
  {
   "cell_type": "code",
   "execution_count": 10,
   "id": "52a9999f",
   "metadata": {},
   "outputs": [],
   "source": [
    "# training partitions\n",
    "\n",
    "# taking the length of our data and multiplying by .7 and rounding off and taking those images\n",
    "train_data = data.take(round(len(data)*.7))\n",
    "#traing data batches of 16 images\n",
    "train_data = train_data.batch(16)\n",
    "# starts preprocessing next set of images\n",
    "train_data = train_data.prefetch(8)"
   ]
  },
  {
   "cell_type": "code",
   "execution_count": 11,
   "id": "e40f12e3",
   "metadata": {},
   "outputs": [],
   "source": [
    "# testing partitions\n",
    "\n",
    "# skips the first 70% of the intial batch\n",
    "test_data= data.skip(round(len(data)*.7))\n",
    "# takes the next 30% of the data\n",
    "test_data= test_data.take(round(len(data)*.3))\n",
    "test_data = test_data.batch(16)\n",
    "test_data = test_data.prefetch(8)"
   ]
  },
  {
   "cell_type": "code",
   "execution_count": 12,
   "id": "4601482c",
   "metadata": {},
   "outputs": [],
   "source": [
    "# Building Siamese model\n",
    "# building embedding layer\n",
    "\n",
    "def make_embedding():\n",
    "# input layer with the shape (shape(100,100,3)\n",
    "  inp = Input(shape=(100,100,3), name = 'input_image')\n",
    " \n",
    "  # making the first block\n",
    "  # First convolutional layer takes 64 filters on a pixel grid of 10x10 with activat= relu performed on inp\n",
    "  c1 = Conv2D(64, (10,10),activation = 'relu')(inp)\n",
    "  # performing max pooling on 2x2 grid\n",
    "  m1 = MaxPooling2D(64, (2,2), padding = 'same')(c1)\n",
    "\n",
    "  # making second block\n",
    "  c2 = Conv2D(128,(7,7), activation = 'relu')(m1)\n",
    "  m2 = MaxPooling2D(64,(2,2), padding = 'same')(c2)\n",
    "\n",
    "  # third block\n",
    "  c3 = Conv2D(128, (4,4), activation = 'relu')(m2)\n",
    "  m3 = MaxPooling2D(64,(2,2), padding = 'same')(c3)\n",
    "\n",
    "  # final embedding block\n",
    "  c4 = Conv2D(256, (4,4), activation = 'relu')(m3)\n",
    "  # flattening the outputs of c4 into a single dimen\n",
    "  f1 = Flatten()(c4)\n",
    "\n",
    "  d1 = Dense(4096, activation = 'sigmoid')(f1)\n",
    "\n",
    "  return Model(inputs=[inp] ,outputs=[d1] ,name='embedding') "
   ]
  },
  {
   "cell_type": "code",
   "execution_count": 13,
   "id": "55de987d",
   "metadata": {},
   "outputs": [],
   "source": [
    "embedding = make_embedding()"
   ]
  },
  {
   "cell_type": "code",
   "execution_count": 14,
   "id": "48724e65",
   "metadata": {
    "scrolled": true
   },
   "outputs": [
    {
     "name": "stdout",
     "output_type": "stream",
     "text": [
      "Model: \"embedding\"\n",
      "_________________________________________________________________\n",
      " Layer (type)                Output Shape              Param #   \n",
      "=================================================================\n",
      " input_image (InputLayer)    [(None, 100, 100, 3)]     0         \n",
      "                                                                 \n",
      " conv2d (Conv2D)             (None, 91, 91, 64)        19264     \n",
      "                                                                 \n",
      " max_pooling2d (MaxPooling2D  (None, 46, 46, 64)       0         \n",
      " )                                                               \n",
      "                                                                 \n",
      " conv2d_1 (Conv2D)           (None, 40, 40, 128)       401536    \n",
      "                                                                 \n",
      " max_pooling2d_1 (MaxPooling  (None, 20, 20, 128)      0         \n",
      " 2D)                                                             \n",
      "                                                                 \n",
      " conv2d_2 (Conv2D)           (None, 17, 17, 128)       262272    \n",
      "                                                                 \n",
      " max_pooling2d_2 (MaxPooling  (None, 9, 9, 128)        0         \n",
      " 2D)                                                             \n",
      "                                                                 \n",
      " conv2d_3 (Conv2D)           (None, 6, 6, 256)         524544    \n",
      "                                                                 \n",
      " flatten (Flatten)           (None, 9216)              0         \n",
      "                                                                 \n",
      " dense (Dense)               (None, 4096)              37752832  \n",
      "                                                                 \n",
      "=================================================================\n",
      "Total params: 38,960,448\n",
      "Trainable params: 38,960,448\n",
      "Non-trainable params: 0\n",
      "_________________________________________________________________\n"
     ]
    }
   ],
   "source": [
    "embedding.summary()"
   ]
  },
  {
   "cell_type": "code",
   "execution_count": 15,
   "id": "91e1a786",
   "metadata": {},
   "outputs": [],
   "source": [
    "# building siamese distance layer which compares the streams of images \n",
    "\n",
    "# L distance layer \n",
    "# inheritance\n",
    "class L1Dist(Layer):\n",
    "  def __init__(self , **kwargs):\n",
    "    super().__init__()\n",
    "\n",
    "  # important stuff- similarity calculation\n",
    "  def call(self, input_embedding, validation_embedding):\n",
    "    return tf.math.abs(input_embedding - validation_embedding)"
   ]
  },
  {
   "cell_type": "code",
   "execution_count": 16,
   "id": "d058726a",
   "metadata": {},
   "outputs": [],
   "source": [
    "l1 = L1Dist()"
   ]
  },
  {
   "cell_type": "code",
   "execution_count": 17,
   "id": "02baa684",
   "metadata": {},
   "outputs": [],
   "source": [
    "# handle inputs\n",
    "def make_siamese_model():\n",
    "\n",
    "  # anchor image input in the network\n",
    "    input_image = Input(name= 'input_image', shape = (100,100,3))\n",
    "  # validation image input in the network\n",
    "    validation_image = Input(name='validation_image', shape=(100,100,3))\n",
    "\n",
    "  # combining siamese distance components\n",
    "\n",
    "    siamese_layer = L1Dist()\n",
    "    siamese_layer._name = 'distance_layer'\n",
    "    distances = siamese_layer(embedding(input_image), embedding(validation_image))\n",
    "\n",
    "  # Classification layer for final output\n",
    "  # gives 1 output\n",
    "    classifier = Dense(1,activation = 'sigmoid')(distances)\n",
    "\n",
    "    return Model(inputs = [input_image, validation_image], outputs=classifier, name='Siamese_Network')"
   ]
  },
  {
   "cell_type": "code",
   "execution_count": 18,
   "id": "0105d851",
   "metadata": {},
   "outputs": [],
   "source": [
    "siamese_model= make_siamese_model()"
   ]
  },
  {
   "cell_type": "code",
   "execution_count": 19,
   "id": "1e38f8af",
   "metadata": {},
   "outputs": [],
   "source": [
    "# setup loss and optimizers\n",
    "\n",
    "# loss function estimates the error for our model\n",
    "binary_cross_loss = tf.losses.BinaryCrossentropy()\n"
   ]
  },
  {
   "cell_type": "code",
   "execution_count": 20,
   "id": "71af71d5",
   "metadata": {},
   "outputs": [],
   "source": [
    "# optimizer\n",
    "\n",
    "opt = tf.keras.optimizers.Adam(1e-4) # learning rate for the opptimizer is 0.0001"
   ]
  },
  {
   "cell_type": "code",
   "execution_count": 21,
   "id": "cfe5ad1a",
   "metadata": {},
   "outputs": [],
   "source": [
    "# Build and train Step Fuction \n",
    "\n",
    "# will train a single batch\n",
    "@tf.function\n",
    "def train_step(batch):\n",
    "\n",
    "# record and improve model\n",
    "  with tf.GradientTape() as tape:\n",
    "    # Get anchor and positive/negative image\n",
    "    X = batch[:2]\n",
    "    # Get label\n",
    "    Y = batch[2]\n",
    "\n",
    "    # forward pass\n",
    "    ypredict = siamese_model(X, training = True)\n",
    "    # Calculate Loss\n",
    "    loss = binary_cross_loss(Y, ypredict)\n",
    "    print(loss)\n",
    "\n",
    "    # Calculate Gradients\n",
    "    grad = tape.gradient(loss, siamese_model.trainable_variables)\n",
    "\n",
    "    # Calculate updated waits and apply to siamese model\n",
    "    opt.apply_gradients(zip(grad, siamese_model.trainable_variables))\n",
    "\n",
    "    return loss"
   ]
  },
  {
   "cell_type": "code",
   "execution_count": 22,
   "id": "239839e9",
   "metadata": {},
   "outputs": [],
   "source": [
    "# building training Loop\n",
    "\n",
    "def train(data, EPOCHS):\n",
    "  #Loop through epochs\n",
    "  for epoch in range(1, EPOCHS+1):\n",
    "    print(' \\n Epoch {}/{}'.format(epoch,EPOCHS))\n",
    "    # for making a progress bar\n",
    "    progbar = tf.keras.utils.Progbar(len(data))\n",
    "\n",
    "    # loop through each batch\n",
    "    # gives counter and batch\n",
    "    for idx, batch in enumerate(data):\n",
    "      train_step(batch)\n",
    "      progbar.update(idx+1)\n",
    "\n",
    "    # saving after every 10 epochs\n",
    "    if epoch % 10==0:\n",
    "      checkpoint.save(file_prefix=checkpoint_prefix)\n"
   ]
  },
  {
   "cell_type": "code",
   "execution_count": 24,
   "id": "45ac6c7f",
   "metadata": {},
   "outputs": [],
   "source": [
    "# training the model\n",
    "EPOCHS = 50"
   ]
  },
  {
   "cell_type": "code",
   "execution_count": 25,
   "id": "1a1f9b51",
   "metadata": {},
   "outputs": [],
   "source": [
    "# Evaluating the model\n",
    "\n",
    "# import metrics calculation\n",
    "# precision demonstrates what proportion of positive identification was correct\n",
    "# recall demonstrates what proportion of actual positives are correct\n",
    "\n",
    "from tensorflow.keras.metrics import Precision, Recall\n",
    " "
   ]
  },
  {
   "cell_type": "code",
   "execution_count": 26,
   "id": "8b9331fb",
   "metadata": {},
   "outputs": [
    {
     "name": "stdout",
     "output_type": "stream",
     "text": [
      "WARNING:tensorflow:No training configuration found in the save file, so the model was *not* compiled. Compile it manually.\n"
     ]
    }
   ],
   "source": [
    "# reload the model\n",
    "\n",
    "model = tf.keras.models.load_model(r'C:\\Users\\CC\\Documents\\docs\\Projects\\Faceid\\siamesemodel.h5', custom_objects={'L1Dist':L1Dist, 'BinaryCrossentropy':tf.losses.BinaryCrossentropy})"
   ]
  },
  {
   "cell_type": "code",
   "execution_count": 27,
   "id": "007c2a88",
   "metadata": {},
   "outputs": [],
   "source": [
    "# get a batch of test data\n",
    "# gets data and converts it into numpy equiv\n",
    "test_input,test_val, y_true = test_data.as_numpy_iterator().next()"
   ]
  },
  {
   "cell_type": "code",
   "execution_count": 28,
   "id": "8473395a",
   "metadata": {
    "scrolled": false
   },
   "outputs": [
    {
     "data": {
      "text/plain": [
       "array([[0.49988353],\n",
       "       [0.5002953 ],\n",
       "       [0.5021178 ],\n",
       "       [0.5031449 ],\n",
       "       [0.5003373 ],\n",
       "       [0.5026527 ],\n",
       "       [0.5013504 ],\n",
       "       [0.501009  ],\n",
       "       [0.5004959 ],\n",
       "       [0.5040551 ],\n",
       "       [0.50129944],\n",
       "       [0.5035554 ],\n",
       "       [0.5001931 ],\n",
       "       [0.5020651 ],\n",
       "       [0.50248414],\n",
       "       [0.4999699 ]], dtype=float32)"
      ]
     },
     "execution_count": 28,
     "metadata": {},
     "output_type": "execute_result"
    }
   ],
   "source": [
    "# make predictions\n",
    "ypredict = siamese_model.predict([test_input, test_val])\n",
    "ypredict"
   ]
  },
  {
   "cell_type": "code",
   "execution_count": 29,
   "id": "9e2c5d5c",
   "metadata": {},
   "outputs": [
    {
     "data": {
      "text/plain": [
       "0.75"
      ]
     },
     "execution_count": 29,
     "metadata": {},
     "output_type": "execute_result"
    }
   ],
   "source": [
    "# creating a metric object for correction of weights\n",
    "m = Recall()\n",
    "# Calculating the recall value \n",
    "m.update_state(y_true, ypredict)\n",
    "# Return Recall Result\n",
    "m.result().numpy()"
   ]
  },
  {
   "cell_type": "code",
   "execution_count": 30,
   "id": "27079a97",
   "metadata": {},
   "outputs": [],
   "source": [
    "# verification threshold = proportion of positive prediction / True positives\n",
    "def verify( model, detection_threshold, verification_threshold):\n",
    "# build results array\n",
    "  results = []\n",
    "# looping through the verication images folder\n",
    "  for image in os.listdir(r'C:\\Users\\CC\\Documents\\Projects\\Faceid\\application_data\\verification_images'):\n",
    "    #using preprocess function on input and val image\n",
    "    input_img = preprocess(r'C:\\Users\\CC\\Documents\\Projects\\Faceid\\application_data\\input_image\\input_image.jpg')\n",
    "    validation_img = preprocess(os.path.join(r'C:\\Users\\CC\\Documents\\Projects\\Faceid\\application_data\\verification_images',image))\n",
    "\n",
    "    # make predictions\n",
    "    # puts an array inside an array\n",
    "    # puts all results inside result array\n",
    "    result = model.predict(list(np.expand_dims([input_img,validation_img], axis = 1)))\n",
    "    results.append(result)\n",
    "\n",
    "# detection threshold = metrics above which a prediction is considered positive\n",
    "  detection = np.sum(np.array(results) > detection_threshold)\n",
    "# verification threshold = proportion of positive prediction / True positives\n",
    "  verification = detection / len(os.listdir(r'C:\\Users\\CC\\Documents\\docs\\Projects\\Faceid\\application_data\\verification_images'))\n",
    "  verified = verification > verification_threshold\n",
    "  return results, verified"
   ]
  },
  {
   "cell_type": "code",
   "execution_count": 52,
   "id": "98dde143",
   "metadata": {},
   "outputs": [
    {
     "ename": "FileNotFoundError",
     "evalue": "[WinError 3] The system cannot find the path specified: 'C:\\\\Users\\\\CC\\\\Documents\\\\Projects\\\\Faceid\\\\application_data\\\\verification_images'",
     "output_type": "error",
     "traceback": [
      "\u001b[1;31m---------------------------------------------------------------------------\u001b[0m",
      "\u001b[1;31mFileNotFoundError\u001b[0m                         Traceback (most recent call last)",
      "Input \u001b[1;32mIn [52]\u001b[0m, in \u001b[0;36m<cell line: 2>\u001b[1;34m()\u001b[0m\n\u001b[0;32m     13\u001b[0m         cv2\u001b[38;5;241m.\u001b[39mimwrite(\u001b[38;5;124mr\u001b[39m\u001b[38;5;124m'\u001b[39m\u001b[38;5;124mC:\u001b[39m\u001b[38;5;124m\\\u001b[39m\u001b[38;5;124mUsers\u001b[39m\u001b[38;5;124m\\\u001b[39m\u001b[38;5;124mCC\u001b[39m\u001b[38;5;124m\\\u001b[39m\u001b[38;5;124mDocuments\u001b[39m\u001b[38;5;124m\\\u001b[39m\u001b[38;5;124mdocs\u001b[39m\u001b[38;5;124m\\\u001b[39m\u001b[38;5;124mProjects\u001b[39m\u001b[38;5;124m\\\u001b[39m\u001b[38;5;124mFaceid\u001b[39m\u001b[38;5;124m\\\u001b[39m\u001b[38;5;124mapplication_data\u001b[39m\u001b[38;5;124m\\\u001b[39m\u001b[38;5;124minput_image\u001b[39m\u001b[38;5;124m\\\u001b[39m\u001b[38;5;124mtest.jpg\u001b[39m\u001b[38;5;124m'\u001b[39m, frame)\n\u001b[0;32m     14\u001b[0m      \u001b[38;5;66;03m# run verification\u001b[39;00m\n\u001b[1;32m---> 15\u001b[0m         results, verified \u001b[38;5;241m=\u001b[39m \u001b[43mverify\u001b[49m\u001b[43m(\u001b[49m\u001b[43mmodel\u001b[49m\u001b[43m,\u001b[49m\u001b[43m \u001b[49m\u001b[38;5;241;43m0.5\u001b[39;49m\u001b[43m,\u001b[49m\u001b[43m \u001b[49m\u001b[38;5;241;43m0.5\u001b[39;49m\u001b[43m)\u001b[49m\n\u001b[0;32m     16\u001b[0m         \u001b[38;5;28mprint\u001b[39m(verified)\n\u001b[0;32m     20\u001b[0m \u001b[38;5;66;03m# releases the webcam and destroys all windows\u001b[39;00m\n",
      "Input \u001b[1;32mIn [30]\u001b[0m, in \u001b[0;36mverify\u001b[1;34m(model, detection_threshold, verification_threshold)\u001b[0m\n\u001b[0;32m      4\u001b[0m   results \u001b[38;5;241m=\u001b[39m []\n\u001b[0;32m      5\u001b[0m \u001b[38;5;66;03m# looping through the verication images folder\u001b[39;00m\n\u001b[1;32m----> 6\u001b[0m   \u001b[38;5;28;01mfor\u001b[39;00m image \u001b[38;5;129;01min\u001b[39;00m \u001b[43mos\u001b[49m\u001b[38;5;241;43m.\u001b[39;49m\u001b[43mlistdir\u001b[49m\u001b[43m(\u001b[49m\u001b[38;5;124;43mr\u001b[39;49m\u001b[38;5;124;43m'\u001b[39;49m\u001b[38;5;124;43mC:\u001b[39;49m\u001b[38;5;124;43m\\\u001b[39;49m\u001b[38;5;124;43mUsers\u001b[39;49m\u001b[38;5;124;43m\\\u001b[39;49m\u001b[38;5;124;43mCC\u001b[39;49m\u001b[38;5;124;43m\\\u001b[39;49m\u001b[38;5;124;43mDocuments\u001b[39;49m\u001b[38;5;124;43m\\\u001b[39;49m\u001b[38;5;124;43mProjects\u001b[39;49m\u001b[38;5;124;43m\\\u001b[39;49m\u001b[38;5;124;43mFaceid\u001b[39;49m\u001b[38;5;124;43m\\\u001b[39;49m\u001b[38;5;124;43mapplication_data\u001b[39;49m\u001b[38;5;124;43m\\\u001b[39;49m\u001b[38;5;124;43mverification_images\u001b[39;49m\u001b[38;5;124;43m'\u001b[39;49m\u001b[43m)\u001b[49m:\n\u001b[0;32m      7\u001b[0m     \u001b[38;5;66;03m#using preprocess function on input and val image\u001b[39;00m\n\u001b[0;32m      8\u001b[0m     input_img \u001b[38;5;241m=\u001b[39m preprocess(\u001b[38;5;124mr\u001b[39m\u001b[38;5;124m'\u001b[39m\u001b[38;5;124mC:\u001b[39m\u001b[38;5;124m\\\u001b[39m\u001b[38;5;124mUsers\u001b[39m\u001b[38;5;124m\\\u001b[39m\u001b[38;5;124mCC\u001b[39m\u001b[38;5;124m\\\u001b[39m\u001b[38;5;124mDocuments\u001b[39m\u001b[38;5;124m\\\u001b[39m\u001b[38;5;124mProjects\u001b[39m\u001b[38;5;124m\\\u001b[39m\u001b[38;5;124mFaceid\u001b[39m\u001b[38;5;124m\\\u001b[39m\u001b[38;5;124mapplication_data\u001b[39m\u001b[38;5;124m\\\u001b[39m\u001b[38;5;124minput_image\u001b[39m\u001b[38;5;124m\\\u001b[39m\u001b[38;5;124minput_image.jpg\u001b[39m\u001b[38;5;124m'\u001b[39m)\n\u001b[0;32m      9\u001b[0m     validation_img \u001b[38;5;241m=\u001b[39m preprocess(os\u001b[38;5;241m.\u001b[39mpath\u001b[38;5;241m.\u001b[39mjoin(\u001b[38;5;124mr\u001b[39m\u001b[38;5;124m'\u001b[39m\u001b[38;5;124mC:\u001b[39m\u001b[38;5;124m\\\u001b[39m\u001b[38;5;124mUsers\u001b[39m\u001b[38;5;124m\\\u001b[39m\u001b[38;5;124mCC\u001b[39m\u001b[38;5;124m\\\u001b[39m\u001b[38;5;124mDocuments\u001b[39m\u001b[38;5;124m\\\u001b[39m\u001b[38;5;124mProjects\u001b[39m\u001b[38;5;124m\\\u001b[39m\u001b[38;5;124mFaceid\u001b[39m\u001b[38;5;124m\\\u001b[39m\u001b[38;5;124mapplication_data\u001b[39m\u001b[38;5;124m\\\u001b[39m\u001b[38;5;124mverification_images\u001b[39m\u001b[38;5;124m'\u001b[39m,image))\n",
      "\u001b[1;31mFileNotFoundError\u001b[0m: [WinError 3] The system cannot find the path specified: 'C:\\\\Users\\\\CC\\\\Documents\\\\Projects\\\\Faceid\\\\application_data\\\\verification_images'"
     ]
    }
   ],
   "source": [
    "\n",
    "\n",
    "cap = cv2.VideoCapture(0)\n",
    "while cap.isOpened():\n",
    "    \n",
    "    ret, frame = cap.read()\n",
    "# cut down frame into 250 by 250 pixels\n",
    "    #frame = frame[:250,:250,:]\n",
    "    \n",
    "    cv2.imshow('Verification', frame)\n",
    "    \n",
    "# verification trigger\n",
    "    if cv2.waitKey(10) & 0XFF == ord('v'):\n",
    "     # save input image to input image folder\n",
    "        cv2.imwrite(r'C:\\Users\\CC\\Documents\\docs\\Projects\\Faceid\\application_data\\input_image\\test.jpg', frame)\n",
    "     # run verification\n",
    "        results, verified = verify(model, 0.5, 0.5)\n",
    "        print(verified)\n",
    "    \n",
    "    \n",
    "    \n",
    "# releases the webcam and destroys all windows\n",
    "    if cv2.waitKey(1) & 0XFF == ord('q'):\n",
    "        cap.release()\n",
    "        cv2.destroyAllWindows()"
   ]
  },
  {
   "cell_type": "code",
   "execution_count": 50,
   "id": "2d9563ff",
   "metadata": {},
   "outputs": [
    {
     "ename": "NameError",
     "evalue": "name 'verified' is not defined",
     "output_type": "error",
     "traceback": [
      "\u001b[1;31m---------------------------------------------------------------------------\u001b[0m",
      "\u001b[1;31mNameError\u001b[0m                                 Traceback (most recent call last)",
      "Input \u001b[1;32mIn [50]\u001b[0m, in \u001b[0;36m<cell line: 1>\u001b[1;34m()\u001b[0m\n\u001b[1;32m----> 1\u001b[0m \u001b[43mverified\u001b[49m\n",
      "\u001b[1;31mNameError\u001b[0m: name 'verified' is not defined"
     ]
    }
   ],
   "source": [
    "verified\n"
   ]
  },
  {
   "cell_type": "code",
   "execution_count": 51,
   "id": "af4299b8",
   "metadata": {},
   "outputs": [],
   "source": [
    "cap = cv2.VideoCapture(0)\n",
    "while cap.isOpened():\n",
    "    ret, frame = cap.read()\n",
    "    cv2.imshow('Verification', frame)\n",
    "    if cv2.waitKey(1) & 0XFF == ord('q'):\n",
    "        cap.release()\n",
    "cv2.destroyAllWindows()"
   ]
  },
  {
   "cell_type": "code",
   "execution_count": null,
   "id": "1cc48226",
   "metadata": {},
   "outputs": [],
   "source": []
  }
 ],
 "metadata": {
  "kernelspec": {
   "display_name": "face",
   "language": "python",
   "name": "face"
  },
  "language_info": {
   "codemirror_mode": {
    "name": "ipython",
    "version": 3
   },
   "file_extension": ".py",
   "mimetype": "text/x-python",
   "name": "python",
   "nbconvert_exporter": "python",
   "pygments_lexer": "ipython3",
   "version": "3.10.4"
  }
 },
 "nbformat": 4,
 "nbformat_minor": 5
}
